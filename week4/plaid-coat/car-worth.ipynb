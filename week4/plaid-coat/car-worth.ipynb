{
 "cells": [
  {
   "cell_type": "code",
   "execution_count": null,
   "metadata": {
    "collapsed": true
   },
   "outputs": [],
   "source": [
    "import pandas as pd\n",
    "import matplotlib.pyplot as plt\n",
    "import numpy as np\n",
    "from sklearn import linear_model\n",
    "\n",
    "%matplotlib inline"
   ]
  },
  {
   "cell_type": "markdown",
   "metadata": {},
   "source": [
    "# How Much is Your Car Worth?\n",
    "\n",
    "Data about the retail price of 2005 General Motors cars can be found in `car_data.csv`.\n",
    "\n",
    "The columns are:\n",
    "\n",
    "1. Price: suggested retail price of the used 2005 GM car in excellent condition.\n",
    "2. Mileage: number of miles the car has been driven\n",
    "3. Make: manufacturer of the car such as Saturn, Pontiac, and Chevrolet\n",
    "4. Model: specific models for each car manufacturer such as Ion, Vibe, Cavalier\n",
    "5. Trim (of car): specific type of car model such as SE Sedan 4D, Quad Coupe 2D          \n",
    "6. Type: body type such as sedan, coupe, etc.      \n",
    "7. Cylinder: number of cylinders in the engine        \n",
    "8. Liter: a more specific measure of engine size     \n",
    "9. Doors: number of doors           \n",
    "10. Cruise: indicator variable representing whether the car has cruise control (1 = cruise)\n",
    "11. Sound: indicator variable representing whether the car has upgraded speakers (1 = upgraded)\n",
    "12. Leather: indicator variable representing whether the car has leather seats (1 = leather)\n",
    "\n",
    "## Tasks, Part 1\n",
    "\n",
    "1. Find the linear regression equation for mileage vs price.\n",
    "2. Chart the original data and the equation on the chart.\n",
    "3. Find the equation's $R^2$ score (use the `.score` method) to determine whether the\n",
    "equation is a good fit for this data. (0.8 and greater is considered a strong correlation.)\n",
    "\n",
    "## Tasks, Part 2\n",
    "\n",
    "1. Use mileage, cylinders, liters, doors, cruise, sound, and leather to find the linear regression equation.\n",
    "2. Find the equation's $R^2$ score (use the `.score` method) to determine whether the\n",
    "equation is a good fit for this data. (0.8 and greater is considered a strong correlation.)\n",
    "3. Find the combination of the factors that is the best predictor for price.\n",
    "\n",
    "## Tasks, Part 3\n",
    "\n",
    "1. Research dummy variables in scikit-learn to see how to use the make, model, and body type.\n",
    "2. Find the best combination of factors to predict price."
   ]
  },
  {
   "cell_type": "code",
   "execution_count": null,
   "metadata": {
    "collapsed": false
   },
   "outputs": [],
   "source": [
    "df = pd.read_csv(\"car_data.csv\")"
   ]
  }
 ],
 "metadata": {
  "kernelspec": {
   "display_name": "Python 3",
   "language": "python",
   "name": "python3"
  },
  "language_info": {
   "codemirror_mode": {
    "name": "ipython",
    "version": 3
   },
   "file_extension": ".py",
   "mimetype": "text/x-python",
   "name": "python",
   "nbconvert_exporter": "python",
   "pygments_lexer": "ipython3",
   "version": "3.4.3"
  }
 },
 "nbformat": 4,
 "nbformat_minor": 0
}
